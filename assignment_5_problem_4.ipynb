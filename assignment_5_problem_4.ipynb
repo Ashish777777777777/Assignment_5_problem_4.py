{
 "cells": [
  {
   "cell_type": "code",
   "execution_count": 3,
   "id": "dbec1080",
   "metadata": {},
   "outputs": [
    {
     "name": "stdout",
     "output_type": "stream",
     "text": [
      "Account title: Ashish\n",
      "Account balance: 5000\n",
      "Savings account title: Ashish\n",
      "Savings account balance: 5000\n",
      "Savings account interest rate: 5\n"
     ]
    }
   ],
   "source": [
    "class Account:\n",
    "    def __init__(self, title, balance):\n",
    "        self.title = title\n",
    "        self.balance = balance\n",
    "\n",
    "class SavingsAccount(Account):\n",
    "    def __init__(self, title, balance, interestRate):\n",
    "        super().__init__(title, balance)\n",
    "        self.interestRate = interestRate\n",
    "\n",
    "# Creating an instance of Account\n",
    "account = Account(\"Ashish\", 5000)\n",
    "print(\"Account title:\", account.title)\n",
    "print(\"Account balance:\", account.balance)\n",
    "\n",
    "# Creating an instance of SavingsAccount\n",
    "savings_account = SavingsAccount(\"Ashish\", 5000, 5)\n",
    "print(\"Savings account title:\", savings_account.title)\n",
    "print(\"Savings account balance:\", savings_account.balance)\n",
    "print(\"Savings account interest rate:\", savings_account.interestRate)\n"
   ]
  },
  {
   "cell_type": "code",
   "execution_count": null,
   "id": "84856400",
   "metadata": {},
   "outputs": [],
   "source": []
  }
 ],
 "metadata": {
  "kernelspec": {
   "display_name": "Python 3 (ipykernel)",
   "language": "python",
   "name": "python3"
  },
  "language_info": {
   "codemirror_mode": {
    "name": "ipython",
    "version": 3
   },
   "file_extension": ".py",
   "mimetype": "text/x-python",
   "name": "python",
   "nbconvert_exporter": "python",
   "pygments_lexer": "ipython3",
   "version": "3.10.9"
  }
 },
 "nbformat": 4,
 "nbformat_minor": 5
}
